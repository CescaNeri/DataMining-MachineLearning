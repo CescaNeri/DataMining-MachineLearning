{
  "nbformat": 4,
  "nbformat_minor": 0,
  "metadata": {
    "colab": {
      "provenance": []
    },
    "kernelspec": {
      "name": "python3",
      "display_name": "Python 3"
    },
    "language_info": {
      "name": "python"
    }
  },
  "cells": [
    {
      "cell_type": "markdown",
      "source": [
        "### Import packages"
      ],
      "metadata": {
        "id": "RuUVUuwkCxz-"
      }
    },
    {
      "cell_type": "code",
      "source": [
        "import numpy as np\n",
        "import math\n",
        "from sklearn.metrics import accuracy_score\n",
        "\n",
        "from numpy.lib.twodim_base import histogram2d\n",
        "import cv2\n",
        "from google.colab.patches import cv2_imshow"
      ],
      "metadata": {
        "id": "TA3fPJfxC2CA"
      },
      "execution_count": 1,
      "outputs": []
    },
    {
      "cell_type": "markdown",
      "source": [
        "### Load dataset"
      ],
      "metadata": {
        "id": "KrHXF7rFDD5_"
      }
    },
    {
      "cell_type": "code",
      "source": [
        "!unzip -q Euclid_dataset.zip -d /content/dataset"
      ],
      "metadata": {
        "id": "BM5pe4jjDOJQ"
      },
      "execution_count": 2,
      "outputs": []
    },
    {
      "cell_type": "code",
      "source": [
        "dataset_path = '/content/dataset/Euclid_dataset'"
      ],
      "metadata": {
        "id": "y1R0-cmsDRIt"
      },
      "execution_count": 3,
      "outputs": []
    },
    {
      "cell_type": "code",
      "source": [
        "from os.path import join\n",
        "s1 = 'path1'\n",
        "s2 = 'path2'\n",
        "s3 = 'path3'"
      ],
      "metadata": {
        "id": "DcogdwoLDTty"
      },
      "execution_count": 5,
      "outputs": []
    },
    {
      "cell_type": "code",
      "source": [
        "from glob import glob\n",
        "elements = glob(join(dataset_path, '*'))"
      ],
      "metadata": {
        "id": "zkO_P6SLDV43"
      },
      "execution_count": 6,
      "outputs": []
    },
    {
      "cell_type": "code",
      "source": [
        "shapes = ['triangle', 'rectangle', 'square', 'rhombus']\n",
        "for shape in shapes:\n",
        "    images = glob(join(dataset_path, shape, '*.png'))\n",
        "\n",
        "images = glob(join(dataset_path, '*', '*.png'))"
      ],
      "metadata": {
        "id": "4Yu-ths2DdLi"
      },
      "execution_count": 7,
      "outputs": []
    },
    {
      "cell_type": "markdown",
      "source": [
        "# Implementation "
      ],
      "metadata": {
        "id": "7EIn4L8JDiZ4"
      }
    },
    {
      "cell_type": "code",
      "source": [
        "def get_labels(name):\n",
        "    if 'triangle' in name:\n",
        "      return 0\n",
        "    elif 'rectangle' in name:\n",
        "      return 1\n",
        "    elif 'square' in name:\n",
        "      return 2\n",
        "    elif 'rhombus' in name:\n",
        "      return 3\n",
        "    else:\n",
        "      raise NotImplementedError('Not existing class!')"
      ],
      "metadata": {
        "id": "alv443BjLAB-"
      },
      "execution_count": 15,
      "outputs": []
    },
    {
      "cell_type": "code",
      "source": [
        "def compute_accuracy(gt, pred):\n",
        "  return len([x for x,y in zip(gt, pred) if x == y]) / len(pred)"
      ],
      "metadata": {
        "id": "Sb7K-1VsE7H4"
      },
      "execution_count": 8,
      "outputs": []
    },
    {
      "cell_type": "markdown",
      "source": [
        "Store the position of the first and last colored pixel, taking as input a single column or row"
      ],
      "metadata": {
        "id": "9sM4sT-aDwIi"
      }
    },
    {
      "cell_type": "code",
      "source": [
        "def first_not_zero(histo):\n",
        "  for i, v in enumerate(histo):\n",
        "    if v > 0:\n",
        "      return i\n",
        "  return None\n",
        "\n",
        "def start_end_histo(histo):\n",
        "  start = first_not_zero(histo)\n",
        "  end = first_not_zero(histo[::-1])\n",
        "  return start, end"
      ],
      "metadata": {
        "id": "zP01wYd2DpoV"
      },
      "execution_count": 9,
      "outputs": []
    },
    {
      "cell_type": "markdown",
      "source": [
        "Takes an image and returns the distance between the borders and the colored pixels for each side of the image\n",
        "\n",
        "- *s = start*\n",
        "- *e = end*"
      ],
      "metadata": {
        "id": "rCbqTSQNEwcA"
      }
    },
    {
      "cell_type": "code",
      "source": [
        "def contours(img):\n",
        "  xs, xe, ys, ye = [], [], [], []\n",
        "  for i in range(img.shape[0]):\n",
        "    column = img[i, :]\n",
        "    s, e = start_end_histo(column)\n",
        "    if s != None:\n",
        "      xs.append(s)\n",
        "      xe.append(e)\n",
        "  for j in range(img.shape[1]):\n",
        "    row = img[:, j]\n",
        "    s, e = start_end_histo(row)\n",
        "    if s != None:\n",
        "      ys.append(s)\n",
        "      ye.append(e)\n",
        "  return xs, xe, ys, ye"
      ],
      "metadata": {
        "id": "-REJQ_-2EyCL"
      },
      "execution_count": 10,
      "outputs": []
    },
    {
      "cell_type": "markdown",
      "source": [
        "Calculate the variance to verify that a set of values is composed of 'almost' equal numbers"
      ],
      "metadata": {
        "id": "IjH5jKtrH7UX"
      }
    },
    {
      "cell_type": "code",
      "source": [
        "def all_roughly_equal(histogram):\n",
        "  return np.var(histogram) < 0.5"
      ],
      "metadata": {
        "id": "dOm6uoEkFFys"
      },
      "execution_count": 11,
      "outputs": []
    },
    {
      "cell_type": "markdown",
      "source": [
        "In **rectangles**, the distance between the sides of the shape and the borders of the plot should be equal.\n",
        "\n",
        "**Squares** follow the same trend but sides have equal length."
      ],
      "metadata": {
        "id": "cCAKg0wsFL1p"
      }
    },
    {
      "cell_type": "code",
      "source": [
        "def rectangle(xs, xe, ys, ye):\n",
        "  return all_roughly_equal(xs) and all_roughly_equal(xe) and all_roughly_equal(ys) and all_roughly_equal(ys)\n",
        "\n",
        "def square(xs, xe, ys, ye):\n",
        "  return rectangle(xs, xe, ys, ye) and len(xs) == len(ys)"
      ],
      "metadata": {
        "id": "vvxFjyL2FMka"
      },
      "execution_count": 12,
      "outputs": []
    },
    {
      "cell_type": "markdown",
      "source": [
        "To identify a **rhombus**, we need to make sure that the increase between the verteces is constant."
      ],
      "metadata": {
        "id": "VRARWZPsFQlG"
      }
    },
    {
      "cell_type": "code",
      "source": [
        "def difference(side):\n",
        "  return [side[value + 1] - side[value] for value in range(len(side) - 1)]\n",
        "\n",
        "def valid_rhombus_profile(profile):\n",
        "  mid = len(profile)//2\n",
        "  first_half = profile[0:mid]\n",
        "  second_half = profile[mid::]\n",
        "  diff_x = difference(first_half)\n",
        "  diff_y = difference(second_half[::-1])\n",
        "  tot_diff = diff_x + diff_y\n",
        "  if all_roughly_equal(tot_diff):\n",
        "    return np.average(tot_diff)\n",
        "  else:\n",
        "    return None\n",
        "\n",
        "def absolute_difference(s, e):\n",
        "  return abs(s - e) < 1\n",
        "\n",
        "def rhombus(xs, xe, ys, ye):\n",
        "  validxs, validxe = valid_rhombus_profile(xs), valid_rhombus_profile(xe)\n",
        "  validys, validye = valid_rhombus_profile(ys), valid_rhombus_profile(ye)  \n",
        "  if validxs != None and validxe != None:\n",
        "    if validys != None and validye != None:\n",
        "      return absolute_difference(validxs, validxe) and absolute_difference(validys, validye)\n",
        "  else:\n",
        "    return None "
      ],
      "metadata": {
        "id": "7NXRK6EiFRfs"
      },
      "execution_count": 13,
      "outputs": []
    },
    {
      "cell_type": "markdown",
      "source": [
        "Classification function"
      ],
      "metadata": {
        "id": "ulf_TKL_FWGO"
      }
    },
    {
      "cell_type": "code",
      "source": [
        "def classify(img):\n",
        "  w, h = img.shape\n",
        "  black_image = img.copy()\n",
        "  cv2.floodFill(black_image, None, (0, 0), 0)\n",
        "  cv2.floodFill(black_image, None, (w-1, 0), 0)\n",
        "  cv2.floodFill(black_image, None, (0, h-1), 0)\n",
        "  cv2.floodFill(black_image, None, (w-1, h-1), 0)\n",
        "  xs, xe, ys, ye = contours(black_image)\n",
        "  if len(xs) == 0 or len(xe) == 0 or len(ys) == 0 or len(ye) == 0:\n",
        "    return 0\n",
        "  if square(xs, xe, ys, ye):\n",
        "    return 2\n",
        "  elif rectangle(xs, xe, ys, ye):\n",
        "    return 1\n",
        "  elif rhombus(xs, xe, ys, ye):\n",
        "    return 3\n",
        "  else:\n",
        "    return 0"
      ],
      "metadata": {
        "id": "DMHyObLNFW0l"
      },
      "execution_count": 14,
      "outputs": []
    },
    {
      "cell_type": "markdown",
      "source": [
        "Classify all the images and check accuracy"
      ],
      "metadata": {
        "id": "HhHU5jf6FZ_c"
      }
    },
    {
      "cell_type": "code",
      "source": [
        "ground_truth = []\n",
        "prediction = []\n",
        "\n",
        "for path in images:\n",
        "  img = cv2.imread(path, 0)\n",
        "  #cv2_imshow(img)\n",
        "  label = get_labels(path)\n",
        "  ground_truth.append(label)\n",
        "  p = classify(img)\n",
        "  prediction.append(p)\n",
        "\n",
        "#print(prediction)\n",
        "#print(ground_truth)\n",
        "\n",
        "#print([(a, b) for a,b in zip(ground_truth, prediction) if a != b])\n",
        "\n",
        "print(compute_accuracy(ground_truth, prediction))"
      ],
      "metadata": {
        "colab": {
          "base_uri": "https://localhost:8080/"
        },
        "id": "DnZyYxWDFawY",
        "outputId": "e2270218-3b37-4bfe-d865-96e9f35f25f3"
      },
      "execution_count": 16,
      "outputs": [
        {
          "output_type": "stream",
          "name": "stderr",
          "text": [
            "/usr/local/lib/python3.7/dist-packages/numpy/core/fromnumeric.py:3724: RuntimeWarning: Degrees of freedom <= 0 for slice\n",
            "  **kwargs)\n",
            "/usr/local/lib/python3.7/dist-packages/numpy/core/_methods.py:223: RuntimeWarning: invalid value encountered in true_divide\n",
            "  subok=False)\n",
            "/usr/local/lib/python3.7/dist-packages/numpy/core/_methods.py:254: RuntimeWarning: invalid value encountered in double_scalars\n",
            "  ret = ret.dtype.type(ret / rcount)\n"
          ]
        },
        {
          "output_type": "stream",
          "name": "stdout",
          "text": [
            "0.99875\n"
          ]
        }
      ]
    }
  ]
}