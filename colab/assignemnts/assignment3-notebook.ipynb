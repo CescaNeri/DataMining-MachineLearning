{
  "nbformat": 4,
  "nbformat_minor": 0,
  "metadata": {
    "colab": {
      "provenance": [],
      "collapsed_sections": []
    },
    "kernelspec": {
      "name": "python3",
      "display_name": "Python 3"
    },
    "language_info": {
      "name": "python"
    }
  },
  "cells": [
    {
      "cell_type": "markdown",
      "source": [
        "### Homework\n",
        "1) Write your own function to compute the **confusion matrix** and the **diagonal** with the classification scores for each class."
      ],
      "metadata": {
        "id": "Fs9cs-HWZpVI"
      }
    },
    {
      "cell_type": "code",
      "source": [
        "def compute_confusion_matrix(test_y, pred_y):\n",
        "  classes = np.unique(test_y)\n",
        "  confmat = np.zeros((len(classes), len(classes)))\n",
        "  for i in range(len(classes)):\n",
        "    for j in range(len(classes)):\n",
        "       confmat[i, j] = np.sum((test_y == classes[i]) & (pred_y == classes[j]))\n",
        "\n",
        "  return confmat, (confmat.diagonal() / confmat.sum(axis=1))"
      ],
      "metadata": {
        "id": "asK_hOxPZrr8"
      },
      "execution_count": null,
      "outputs": []
    },
    {
      "cell_type": "markdown",
      "source": [
        "2) Download the CIFAR 10 dataset from Virtuale (`CIFAR-10-simple.zip`).\n",
        "Load the dataset and the classes, try to solve the classification problem. You can use only the data provided in the `train` folder to train your model.\n",
        "Compute the final accuracy with the folder `test`.\n",
        "\n",
        "CIFAR 10 (https://www.cs.toronto.edu/~kriz/cifar.html) consists in **32x32 colour images** (RGB) divided in **10 classes**. There are **300 samples in training** and **50 testing samples** for each class.\n",
        "\n",
        "Upload your result (`results.txt`) on Virtuale, including the classifier(s) and features used. The student with best accuracy will present his/her solution in the next lecture!\n"
      ],
      "metadata": {
        "id": "tt08FF_XZwyS"
      }
    },
    {
      "cell_type": "code",
      "execution_count": null,
      "metadata": {
        "id": "tnVplOvG-wNj"
      },
      "outputs": [],
      "source": [
        "import time\n",
        "import os\n",
        "import sklearn\n",
        "import numpy as np\n",
        "from sklearn import svm\n",
        "from sklearn.ensemble import RandomForestClassifier\n",
        "from sklearn.metrics import accuracy_score, confusion_matrix\n",
        "from sklearn.metrics import plot_confusion_matrix\n",
        "import matplotlib.pyplot as plt\n",
        "from glob import glob\n",
        "from os.path import join\n",
        "import cv2\n",
        "from skimage.feature import hog, local_binary_pattern\n",
        "from tqdm import tqdm"
      ]
    },
    {
      "cell_type": "code",
      "source": [
        "np.random.seed(1821)"
      ],
      "metadata": {
        "id": "aXBk423k_AqT"
      },
      "execution_count": null,
      "outputs": []
    },
    {
      "cell_type": "markdown",
      "source": [
        "Load data"
      ],
      "metadata": {
        "id": "8vQVWeIl_CRT"
      }
    },
    {
      "cell_type": "code",
      "source": [
        "!unzip -q CIFAR-10-simple.zip -d /content"
      ],
      "metadata": {
        "id": "0TliPADe_EzN"
      },
      "execution_count": null,
      "outputs": []
    },
    {
      "cell_type": "code",
      "source": [
        "from google.colab.patches import cv2_imshow\n",
        "from PIL import Image, ImageEnhance"
      ],
      "metadata": {
        "id": "pGIqm44h16Az"
      },
      "execution_count": null,
      "outputs": []
    },
    {
      "cell_type": "code",
      "source": [
        "dataset_path_test = '/content/CIFAR-10-simple/test'\n",
        "dataset_path_train = '/content/CIFAR-10-simple/train'\n",
        "\n",
        "test_set = glob(join(dataset_path_test, '*', '*.jpg'))\n",
        "train_set = glob(join(dataset_path_train, '*', '*.jpg'))\n",
        "\n",
        "print('Test set: ', len(test_set))\n",
        "print('Train set: ', len(train_set))"
      ],
      "metadata": {
        "colab": {
          "base_uri": "https://localhost:8080/"
        },
        "id": "pUFgVKd_BWkP",
        "outputId": "61cec2cc-f0a5-44ec-aca0-3be0a6575f93"
      },
      "execution_count": null,
      "outputs": [
        {
          "output_type": "stream",
          "name": "stdout",
          "text": [
            "Test set:  500\n",
            "Train set:  3000\n"
          ]
        }
      ]
    },
    {
      "cell_type": "markdown",
      "source": [
        "Labels:\n",
        "- Airplane: 0\n",
        "- Automobile: 1\n",
        "- Bird: 2\n",
        "- Cat: 3\n",
        "- Deer: 4\n",
        "- Dog: 5\n",
        "- Frog: 6\n",
        "- Horse: 7\n",
        "- Ship: 8\n",
        "- Truck 9"
      ],
      "metadata": {
        "id": "kWS1wY4-Nb_s"
      }
    },
    {
      "cell_type": "code",
      "source": [
        "def get_labels(image):\n",
        "  if 'airplane' in image:\n",
        "    return 0\n",
        "  elif 'automobile' in image:\n",
        "    return 1\n",
        "  elif 'bird' in image:\n",
        "    return 2\n",
        "  elif 'cat' in image:\n",
        "    return 3\n",
        "  elif 'deer' in image:\n",
        "    return 4\n",
        "  elif 'dog' in image:\n",
        "    return 5\n",
        "  elif 'frog' in image:\n",
        "    return 6\n",
        "  elif 'horse' in image:\n",
        "    return 7\n",
        "  elif 'ship' in image:\n",
        "    return 8\n",
        "  elif 'truck' in image:\n",
        "    return 9\n",
        "  else:\n",
        "    raise NotImplementedError('Not existing class!')"
      ],
      "metadata": {
        "id": "29k0C4EeMRtv"
      },
      "execution_count": null,
      "outputs": []
    },
    {
      "cell_type": "markdown",
      "source": [
        "Extract Features with BW images"
      ],
      "metadata": {
        "id": "wUrLaFUDOxYb"
      }
    },
    {
      "cell_type": "code",
      "source": [
        "def extract_features(images, feat_type, img_size):\n",
        "\n",
        "    labels = []\n",
        "    features = []\n",
        "\n",
        "    for image in tqdm(images):\n",
        "\n",
        "        # open the image\n",
        "        img = cv2.imread(image, 0)\n",
        "\n",
        "        # resize the image\n",
        "        img = cv2.resize(img, (img_size, img_size))\n",
        "\n",
        "        # compute the features\n",
        "        if feat_type == 'hog':\n",
        "            feat = hog(img, orientations=9, pixels_per_cell=(8, 8), cells_per_block=(2, 2))\n",
        "        elif feat_type == 'lbp':\n",
        "            feat = np.ravel(local_binary_pattern(img, P=100, R=5))\n",
        "        elif feat_type == 'img':\n",
        "            img = img / 256.0\n",
        "            feat = np.ravel(img)\n",
        "        else:\n",
        "            raise NotImplementedError('Not implemented feature!')\n",
        "\n",
        "        # append features and labels\n",
        "        features.append(feat)\n",
        "        labels.append(get_labels(image))\n",
        "\n",
        "    return features, labels"
      ],
      "metadata": {
        "id": "FAIEdN7dXZ_0"
      },
      "execution_count": null,
      "outputs": []
    },
    {
      "cell_type": "markdown",
      "source": [
        "### Sample Distribution:\n",
        "- Train: 76%\n",
        "- Test: 14%\n",
        "- Validation: 10%\n"
      ],
      "metadata": {
        "id": "of7JnHyDSTcJ"
      }
    },
    {
      "cell_type": "code",
      "source": [
        "np.random.shuffle(test_set)\n",
        "np.random.shuffle(train_set)\n",
        "trainset = train_set[350:]\n",
        "valset = train_set[0:350]\n",
        "testset = test_set\n",
        "print('Total: {} splitted in Train: {}, Val: {} and Test: {}'.format(len(train_set) + len(test_set), len(trainset), len(valset), len(testset)))"
      ],
      "metadata": {
        "colab": {
          "base_uri": "https://localhost:8080/"
        },
        "id": "ajlIMEu9QZEj",
        "outputId": "6b76198b-a5ec-47fd-c4b0-c9827f6bb9b6"
      },
      "execution_count": null,
      "outputs": [
        {
          "output_type": "stream",
          "name": "stdout",
          "text": [
            "Total: 3500 splitted in Train: 2650, Val: 350 and Test: 500\n"
          ]
        }
      ]
    },
    {
      "cell_type": "code",
      "source": [
        "size = [\n",
        "    32,\n",
        "    64,\n",
        "    128\n",
        "]\n",
        "\n",
        "features = [\n",
        "    'hog',\n",
        "    'lbp',\n",
        "    'img'\n",
        "]\n",
        "\n",
        "for size in size:\n",
        "  for feature in features:\n",
        "    t1 = time.time()\n",
        "    train_x, train_y = extract_features(trainset, feature, size)\n",
        "    val_x, val_y = extract_features(valset, feature, size)\n",
        "    test_x, test_y = extract_features(testset, feature, size)\n",
        "    clf = svm.SVC(gamma=0.001, C=100., kernel='rbf', verbose=False)\n",
        "    clf.fit(train_x, train_y)\n",
        "    clf.score(val_x, val_y)\n",
        "    y_pred = clf.predict(test_x)\n",
        "    t2 = time.time()\n",
        "    print()\n",
        "    print('Final Accuracy {} {}: {:.3f} - Elapsed Time: {}'.format((feature),(size),(accuracy_score(test_y, y_pred)),(t2 - t1)))\n",
        "    print()"
      ],
      "metadata": {
        "colab": {
          "base_uri": "https://localhost:8080/"
        },
        "id": "SCBEZ7tQPoDz",
        "outputId": "25bae0c9-0dc8-444c-a9f2-2a17238daffa"
      },
      "execution_count": null,
      "outputs": [
        {
          "output_type": "stream",
          "name": "stderr",
          "text": [
            "100%|██████████| 2650/2650 [00:01<00:00, 1454.70it/s]\n",
            "100%|██████████| 350/350 [00:00<00:00, 1444.34it/s]\n",
            "100%|██████████| 500/500 [00:00<00:00, 1498.43it/s]\n"
          ]
        },
        {
          "output_type": "stream",
          "name": "stdout",
          "text": [
            "\n",
            "Final Accuracy hog 32: 0.432 - Elapsed Time: 4.600671052932739\n",
            "\n"
          ]
        },
        {
          "output_type": "stream",
          "name": "stderr",
          "text": [
            "100%|██████████| 2650/2650 [00:06<00:00, 426.23it/s]\n",
            "100%|██████████| 350/350 [00:00<00:00, 412.70it/s]\n",
            "100%|██████████| 500/500 [00:01<00:00, 432.37it/s]\n"
          ]
        },
        {
          "output_type": "stream",
          "name": "stdout",
          "text": [
            "\n",
            "Final Accuracy lbp 32: 0.100 - Elapsed Time: 15.528929948806763\n",
            "\n"
          ]
        },
        {
          "output_type": "stream",
          "name": "stderr",
          "text": [
            "100%|██████████| 2650/2650 [00:00<00:00, 16797.93it/s]\n",
            "100%|██████████| 350/350 [00:00<00:00, 15767.72it/s]\n",
            "100%|██████████| 500/500 [00:00<00:00, 17263.07it/s]\n"
          ]
        },
        {
          "output_type": "stream",
          "name": "stdout",
          "text": [
            "\n",
            "Final Accuracy img 32: 0.258 - Elapsed Time: 6.344087362289429\n",
            "\n"
          ]
        },
        {
          "output_type": "stream",
          "name": "stderr",
          "text": [
            "100%|██████████| 2650/2650 [00:06<00:00, 435.21it/s]\n",
            "100%|██████████| 350/350 [00:00<00:00, 435.23it/s]\n",
            "100%|██████████| 500/500 [00:01<00:00, 435.13it/s]\n"
          ]
        },
        {
          "output_type": "stream",
          "name": "stdout",
          "text": [
            "\n",
            "Final Accuracy hog 64: 0.436 - Elapsed Time: 16.98233199119568\n",
            "\n"
          ]
        },
        {
          "output_type": "stream",
          "name": "stderr",
          "text": [
            "100%|██████████| 2650/2650 [00:22<00:00, 118.55it/s]\n",
            "100%|██████████| 350/350 [00:02<00:00, 118.06it/s]\n",
            "100%|██████████| 500/500 [00:04<00:00, 118.89it/s]\n"
          ]
        },
        {
          "output_type": "stream",
          "name": "stdout",
          "text": [
            "\n",
            "Final Accuracy lbp 64: 0.100 - Elapsed Time: 66.17890119552612\n",
            "\n"
          ]
        },
        {
          "output_type": "stream",
          "name": "stderr",
          "text": [
            "100%|██████████| 2650/2650 [00:00<00:00, 14805.03it/s]\n",
            "100%|██████████| 350/350 [00:00<00:00, 12338.99it/s]\n",
            "100%|██████████| 500/500 [00:00<00:00, 13132.07it/s]\n"
          ]
        },
        {
          "output_type": "stream",
          "name": "stdout",
          "text": [
            "\n",
            "Final Accuracy img 64: 0.258 - Elapsed Time: 32.355496644973755\n",
            "\n"
          ]
        },
        {
          "output_type": "stream",
          "name": "stderr",
          "text": [
            "100%|██████████| 2650/2650 [00:24<00:00, 107.61it/s]\n",
            "100%|██████████| 350/350 [00:03<00:00, 103.23it/s]\n",
            "100%|██████████| 500/500 [00:04<00:00, 105.77it/s]\n"
          ]
        },
        {
          "output_type": "stream",
          "name": "stdout",
          "text": [
            "\n",
            "Final Accuracy hog 128: 0.420 - Elapsed Time: 114.72315382957458\n",
            "\n"
          ]
        },
        {
          "output_type": "stream",
          "name": "stderr",
          "text": [
            "100%|██████████| 2650/2650 [01:24<00:00, 31.31it/s]\n",
            "100%|██████████| 350/350 [00:11<00:00, 31.05it/s]\n",
            "100%|██████████| 500/500 [00:15<00:00, 31.34it/s]\n"
          ]
        },
        {
          "output_type": "stream",
          "name": "stdout",
          "text": [
            "\n",
            "Final Accuracy lbp 128: 0.100 - Elapsed Time: 313.61524844169617\n",
            "\n"
          ]
        },
        {
          "output_type": "stream",
          "name": "stderr",
          "text": [
            "100%|██████████| 2650/2650 [00:00<00:00, 5971.40it/s]\n",
            "100%|██████████| 350/350 [00:00<00:00, 8019.40it/s]\n",
            "100%|██████████| 500/500 [00:00<00:00, 8990.93it/s]\n"
          ]
        },
        {
          "output_type": "stream",
          "name": "stdout",
          "text": [
            "\n",
            "Final Accuracy img 128: 0.268 - Elapsed Time: 187.52710103988647\n",
            "\n"
          ]
        }
      ]
    },
    {
      "cell_type": "markdown",
      "source": [
        "HOG seems to be the most accurate feature descriptor (compared to LBP and np.ravel), therefore, we will check the accuracy of HOG using different classifiers:\n",
        "\n",
        "- SVC\n",
        "- Random Forest\n",
        "- Ada Boost\n",
        "- Decision Tree\n",
        "- Quadratic Discrimination"
      ],
      "metadata": {
        "id": "zmDMTpuiNXf1"
      }
    },
    {
      "cell_type": "code",
      "source": [
        "#from PIL import Image, ImageEnhance"
      ],
      "metadata": {
        "id": "fMqugqM_r0gn"
      },
      "execution_count": null,
      "outputs": []
    },
    {
      "cell_type": "code",
      "source": [
        "prova = train_set[100]\n",
        "\n",
        "img = cv2.imread(prova)\n",
        "\n",
        "alpha = 1.5 # Contrast control (1.0-3.0)\n",
        "beta = -80 # Brightness control (0-100)\n",
        "\n",
        "adjusted = cv2.convertScaleAbs(img, alpha=alpha, beta=beta)\n",
        "cv2_imshow(adjusted)\n",
        "\n",
        "diff = cv2.imread(prova)\n",
        "cv2_imshow(diff)\n",
        "# cv2.imwrite('contrast_board.jpg', adapt_thresh)\n",
        "# cv2.waitKey(0)\n",
        "# cv2.destroyAllWindows()"
      ],
      "metadata": {
        "colab": {
          "base_uri": "https://localhost:8080/",
          "height": 81
        },
        "id": "EJkSdtQlBtku",
        "outputId": "d3050250-217a-4bc6-ec8c-b3701ccb7ed1"
      },
      "execution_count": null,
      "outputs": [
        {
          "output_type": "display_data",
          "data": {
            "text/plain": [
              "<PIL.Image.Image image mode=RGB size=32x32 at 0x7FD4D8E46E10>"
            ],
            "image/png": "[encoded data removed]"
          },
          "metadata": {}
        },
        {
          "output_type": "display_data",
          "data": {
            "text/plain": [
              "<PIL.Image.Image image mode=RGB size=32x32 at 0x7FD4D8E3CFD0>"
            ],
            "image/png": "[encoded data removed]"
          },
          "metadata": {}
        }
      ]
    },
    {
      "cell_type": "markdown",
      "source": [
        "To achieve a higher accuracy, the **contrast** of each image has been improved by 1.5 while **brightness** has been diminished by -80.\n",
        "\n",
        "It seems that BGR images achieve a higher accuracy compared to BW images (with modified contrast and brightness)."
      ],
      "metadata": {
        "id": "n3dm2204B4N7"
      }
    },
    {
      "cell_type": "code",
      "source": [
        "def apply_hog(images, img_size):\n",
        "\n",
        "    labels = []\n",
        "    features = []\n",
        "\n",
        "    for image in (images):\n",
        "\n",
        "        img_init = cv2.imread(image) #(image, 0) -> bw\n",
        "\n",
        "        alpha = 1.5 # Contrast control (1.0-3.0)\n",
        "        beta = -80 # Brightness control (0-100)\n",
        "\n",
        "        adjusted = cv2.convertScaleAbs(img_init, alpha=alpha, beta=beta)\n",
        "\n",
        "        # open the image\n",
        "        # img = cv2.imread(image, 0)\n",
        "\n",
        "        # resize the image\n",
        "        img = cv2.resize(adjusted, (img_size, img_size))\n",
        "\n",
        "        # increase contrast\n",
        "        # img2 = ImageEnhance.Contrast(img)\n",
        "\n",
        "        # compute the feature\n",
        "        feat = hog(img, orientations=9, pixels_per_cell=(8, 8), cells_per_block=(2, 2), multichannel=True)\n",
        "\n",
        "        # append features and labels\n",
        "        features.append(feat)\n",
        "        labels.append(get_labels(image))\n",
        "\n",
        "    return features, labels"
      ],
      "metadata": {
        "id": "RprnuWihONr6"
      },
      "execution_count": null,
      "outputs": []
    },
    {
      "cell_type": "code",
      "source": [
        "from numpy.core.arrayprint import format_float_scientific\n",
        "from sklearn.ensemble import RandomForestClassifier\n",
        "from sklearn.ensemble import AdaBoostClassifier\n",
        "from sklearn.tree import DecisionTreeClassifier\n",
        "from sklearn.discriminant_analysis import QuadraticDiscriminantAnalysis"
      ],
      "metadata": {
        "id": "Hc4iCuj7O4zf"
      },
      "execution_count": null,
      "outputs": []
    },
    {
      "cell_type": "code",
      "source": [
        "size = [\n",
        "    32,\n",
        "    64,\n",
        "    128\n",
        "]\n",
        "\n",
        "names = [\n",
        "    \"SVC\",\n",
        "    \"Random Forest\",\n",
        "    \"Ada Boost\",\n",
        "    \"Decision Tree\",\n",
        "    \"Quadratic Discrimination\"\n",
        "]\n",
        "\n",
        "classifiers = [\n",
        "    svm.SVC(gamma=0.001, C=100., kernel='rbf', verbose=False, probability=False),\n",
        "    RandomForestClassifier(max_depth=5, n_estimators=10, max_features=1),\n",
        "    AdaBoostClassifier(),\n",
        "    DecisionTreeClassifier(),\n",
        "    QuadraticDiscriminantAnalysis()\n",
        "]\n",
        "\n",
        "for size in size:\n",
        "  for name, clf in zip(names, classifiers):\n",
        "    t1 = time.time()\n",
        "    train_x, train_y = apply_hog(trainset, size)\n",
        "    val_x, val_y = apply_hog(valset, size)\n",
        "    test_x, test_y = apply_hog(testset, size)\n",
        "    clf.fit(train_x, train_y)\n",
        "    clf.score(val_x, val_y)\n",
        "    y_pred = clf.predict(test_x)\n",
        "    t2 = time.time()\n",
        "    print()\n",
        "    print('Elapsed Time: {}'.format((t2 - t1)))\n",
        "    print('Final accuracy: {} {}, {:.3f}'.format((name),(size),(accuracy_score(test_y, y_pred))))   \n",
        "    print()"
      ],
      "metadata": {
        "colab": {
          "base_uri": "https://localhost:8080/"
        },
        "id": "M923g9VCOodo",
        "outputId": "3be7a795-3998-4866-8e94-a8fe731b9015"
      },
      "execution_count": null,
      "outputs": [
        {
          "output_type": "stream",
          "name": "stdout",
          "text": [
            "\n",
            "Elapsed Time: 5.9980788230896\n",
            "Final accuracy: SVC 32, 0.422\n",
            "\n",
            "\n",
            "Elapsed Time: 3.1835689544677734\n",
            "Final accuracy: Random Forest 32, 0.264\n",
            "\n",
            "\n",
            "Elapsed Time: 9.623764514923096\n",
            "Final accuracy: Ada Boost 32, 0.280\n",
            "\n",
            "\n",
            "Elapsed Time: 4.270063161849976\n",
            "Final accuracy: Decision Tree 32, 0.194\n",
            "\n"
          ]
        },
        {
          "output_type": "stream",
          "name": "stderr",
          "text": [
            "/usr/local/lib/python3.7/dist-packages/sklearn/discriminant_analysis.py:878: UserWarning: Variables are collinear\n",
            "  warnings.warn(\"Variables are collinear\")\n"
          ]
        },
        {
          "output_type": "stream",
          "name": "stdout",
          "text": [
            "\n",
            "Elapsed Time: 3.533628463745117\n",
            "Final accuracy: Quadratic Discrimination 32, 0.112\n",
            "\n",
            "\n",
            "Elapsed Time: 18.96364116668701\n",
            "Final accuracy: SVC 64, 0.408\n",
            "\n",
            "\n",
            "Elapsed Time: 9.79652452468872\n",
            "Final accuracy: Random Forest 64, 0.218\n",
            "\n",
            "\n",
            "Elapsed Time: 43.65763258934021\n",
            "Final accuracy: Ada Boost 64, 0.236\n",
            "\n",
            "\n",
            "Elapsed Time: 15.446592569351196\n",
            "Final accuracy: Decision Tree 64, 0.192\n",
            "\n"
          ]
        },
        {
          "output_type": "stream",
          "name": "stderr",
          "text": [
            "/usr/local/lib/python3.7/dist-packages/sklearn/discriminant_analysis.py:878: UserWarning: Variables are collinear\n",
            "  warnings.warn(\"Variables are collinear\")\n"
          ]
        },
        {
          "output_type": "stream",
          "name": "stdout",
          "text": [
            "\n",
            "Elapsed Time: 11.269005537033081\n",
            "Final accuracy: Quadratic Discrimination 64, 0.122\n",
            "\n",
            "\n",
            "Elapsed Time: 122.65510439872742\n",
            "Final accuracy: SVC 128, 0.416\n",
            "\n",
            "\n",
            "Elapsed Time: 38.00363898277283\n",
            "Final accuracy: Random Forest 128, 0.192\n",
            "\n",
            "\n",
            "Elapsed Time: 184.5251863002777\n",
            "Final accuracy: Ada Boost 128, 0.182\n",
            "\n",
            "\n",
            "Elapsed Time: 67.0267059803009\n",
            "Final accuracy: Decision Tree 128, 0.184\n",
            "\n"
          ]
        },
        {
          "output_type": "stream",
          "name": "stderr",
          "text": [
            "/usr/local/lib/python3.7/dist-packages/sklearn/discriminant_analysis.py:878: UserWarning: Variables are collinear\n",
            "  warnings.warn(\"Variables are collinear\")\n"
          ]
        },
        {
          "output_type": "stream",
          "name": "stdout",
          "text": [
            "\n",
            "Elapsed Time: 46.47637724876404\n",
            "Final accuracy: Quadratic Discrimination 128, 0.100\n",
            "\n"
          ]
        }
      ]
    },
    {
      "cell_type": "markdown",
      "source": [
        "The **Decision Tree** classifier and the **Quadratic Discrimination** classifier provide the lowest accuracy score.\n",
        "\n",
        "On the other hand, **SVC** is the most accurate, followed by **Ada Boost** and **Random Forest**.\n",
        "\n",
        "Now, we will try to optimize the SVC classifier:"
      ],
      "metadata": {
        "id": "Gi41NdVXUc2z"
      }
    },
    {
      "cell_type": "code",
      "source": [
        "clf = svm.SVC(gamma='scale', C=100., kernel='rbf', verbose=False, probability=False)\n",
        "name = 'SVC'\n",
        "size = [32, 64, 128]\n",
        "\n",
        "for size in size:\n",
        "  t1 = time.time()\n",
        "  train_x, train_y = apply_hog(trainset, size)\n",
        "  val_x, val_y = apply_hog(valset, size)\n",
        "  test_x, test_y = apply_hog(testset, size)\n",
        "  clf.fit(train_x, train_y)\n",
        "  clf.score(val_x, val_y)\n",
        "  y_pred = clf.predict(test_x)\n",
        "  t2 = time.time()\n",
        "  print()\n",
        "  print('Elapsed Time: {}'.format((t2 - t1)))\n",
        "  print('Final accuracy: {} {}, {:.3f}'.format((name),(size),(accuracy_score(test_y, y_pred))))   \n",
        "  print()"
      ],
      "metadata": {
        "colab": {
          "base_uri": "https://localhost:8080/"
        },
        "id": "5iEw9kFoc5fi",
        "outputId": "49ba580e-d630-48a6-d7e0-2e8e439c3f81"
      },
      "execution_count": null,
      "outputs": [
        {
          "output_type": "stream",
          "name": "stdout",
          "text": [
            "\n",
            "Elapsed Time: 6.028032064437866\n",
            "Final accuracy: SVC 32, 0.482\n",
            "\n",
            "\n",
            "Elapsed Time: 24.317260026931763\n",
            "Final accuracy: SVC 64, 0.492\n",
            "\n",
            "\n",
            "Elapsed Time: 131.22519373893738\n",
            "Final accuracy: SVC 128, 0.448\n",
            "\n"
          ]
        }
      ]
    }
  ]
}